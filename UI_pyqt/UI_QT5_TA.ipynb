{
 "cells": [
  {
   "cell_type": "code",
   "execution_count": 1,
   "id": "337b6f5b",
   "metadata": {
    "ExecuteTime": {
     "end_time": "2022-06-21T20:27:21.674166Z",
     "start_time": "2022-06-21T20:27:21.572164Z"
    }
   },
   "outputs": [],
   "source": [
    "from PyQt5.QtWidgets import *\n",
    "import random\n",
    "import sys\n",
    "from frmGuess import Ui_frmGuess\n",
    "import PyQt5"
   ]
  },
  {
   "cell_type": "code",
   "execution_count": 2,
   "id": "307f9483",
   "metadata": {
    "ExecuteTime": {
     "end_time": "2022-06-21T20:27:23.453211Z",
     "start_time": "2022-06-21T20:27:23.439213Z"
    }
   },
   "outputs": [],
   "source": [
    "# Declare variable\n",
    "times_guessed = 0\n",
    "num_to_guess = random.randrange(1,101)"
   ]
  },
  {
   "cell_type": "code",
   "execution_count": 3,
   "id": "04bfa100",
   "metadata": {
    "ExecuteTime": {
     "end_time": "2022-06-21T20:27:24.693251Z",
     "start_time": "2022-06-21T20:27:24.666244Z"
    }
   },
   "outputs": [],
   "source": [
    "#Build the structure of the Mainwindow\n",
    "#PyQt5.QtWidgets.QWidget\n",
    "class Mainwindow(QWidget):\n",
    "    def __init__(self):\n",
    "        super().__init__()\n",
    "        self.ui = Ui_frmGuess()\n",
    "        self.ui.setupUi(self)\n",
    "        tg = str(times_guessed)\n",
    "        self.ui.timesGuessedLabel.setText(tg)\n",
    "        # guess button\n",
    "        self.ui.guess_button.clicked.connect(self.guess_click)\n",
    "        # hint button\n",
    "        self.ui.hint_button.clicked.connect(self.hint_click)\n",
    "        #\n",
    "        self.hint = random.randrange(-5,6)\n",
    "        # show form\n",
    "        self.show()\n",
    "    def guess_click(self):\n",
    "        global num_to_guess\n",
    "        global times_guessed\n",
    "        guess, okPressed = PyQt5.QtWidgets.QInputDialog.getInt(self, \n",
    "                           'Enter Guess', 'Guess 1-100', 1, 1, 100, 1)\n",
    "        if okPressed:\n",
    "            times_guessed = times_guessed+1\n",
    "            tg = str(times_guessed)\n",
    "            self.ui.timesGuessedLabel.setText(tg)\n",
    "            # evaluate the guess\n",
    "            if guess == num_to_guess:\n",
    "                congstr = \"You guessed the right number in {}\".format(times_guessed) \n",
    "                QMessageBox.question(self, \"Congratulations\", \n",
    "                                     congstr,QMessageBox.Ok)\n",
    "                # reset times guessed\n",
    "                times_guessed = 0\n",
    "                # reset label to 0\n",
    "                self.ui.timesGuessedLabel.setText('0')\n",
    "                self.hint = random.randrange(-5,6)\n",
    "            elif guess < num_to_guess:\n",
    "                QMessageBox.question(self, \"Low\", \"Your guess is too low.\", QMessageBox.Ok)\n",
    "            else:\n",
    "                QMessageBox.question(self, \"High\", \"Your guess is too high.\", QMessageBox.Ok)\n",
    "    # for undergrads\n",
    "    def hint_click(self):\n",
    "        global num_to_guess\n",
    "        global times_guessed\n",
    "        \n",
    "        hintNum = self.hint + num_to_guess\n",
    "        hintstr = 'the number is near to {}'.format(hintNum)\n",
    "        okPressed = QMessageBox.question(self, \"Hint\", hintstr, QMessageBox.Ok)\n",
    "        if okPressed:\n",
    "            times_guessed = times_guessed+5\n",
    "            tg = str(times_guessed)\n",
    "            self.ui.timesGuessedLabel.setText(tg)\n",
    "        \n",
    "        pass"
   ]
  },
  {
   "cell_type": "code",
   "execution_count": 5,
   "id": "4f511109",
   "metadata": {
    "ExecuteTime": {
     "end_time": "2022-06-21T20:27:42.070760Z",
     "start_time": "2022-06-21T20:27:39.505655Z"
    }
   },
   "outputs": [
    {
     "name": "stdout",
     "output_type": "stream",
     "text": [
      "hello\n"
     ]
    }
   ],
   "source": [
    "if PyQt5.QtWidgets.QApplication.instance():\n",
    "    app = PyQt5.QtWidgets.QApplication.instance()\n",
    "    print(\"hello\")\n",
    "else:\n",
    "    app = PyQt5.QtWidgets.QApplication(sys.argv)\n",
    "    print(\"create a new QApplication ojbect\")\n",
    "#\n",
    "ex  = Mainwindow()\n",
    "ex.show()\n",
    "app.exec_()\n",
    "app.quit()"
   ]
  }
 ],
 "metadata": {
  "kernelspec": {
   "display_name": "Python 3 (ipykernel)",
   "language": "python",
   "name": "python3"
  },
  "language_info": {
   "codemirror_mode": {
    "name": "ipython",
    "version": 3
   },
   "file_extension": ".py",
   "mimetype": "text/x-python",
   "name": "python",
   "nbconvert_exporter": "python",
   "pygments_lexer": "ipython3",
   "version": "3.7.11"
  },
  "varInspector": {
   "cols": {
    "lenName": 16,
    "lenType": 16,
    "lenVar": 40
   },
   "kernels_config": {
    "python": {
     "delete_cmd_postfix": "",
     "delete_cmd_prefix": "del ",
     "library": "var_list.py",
     "varRefreshCmd": "print(var_dic_list())"
    },
    "r": {
     "delete_cmd_postfix": ") ",
     "delete_cmd_prefix": "rm(",
     "library": "var_list.r",
     "varRefreshCmd": "cat(var_dic_list()) "
    }
   },
   "types_to_exclude": [
    "module",
    "function",
    "builtin_function_or_method",
    "instance",
    "_Feature"
   ],
   "window_display": false
  }
 },
 "nbformat": 4,
 "nbformat_minor": 5
}
