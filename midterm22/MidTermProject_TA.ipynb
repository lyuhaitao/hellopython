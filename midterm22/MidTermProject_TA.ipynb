{
 "cells": [
  {
   "cell_type": "markdown",
   "id": "2e6b248f",
   "metadata": {},
   "source": [
    "# Packages"
   ]
  },
  {
   "cell_type": "code",
   "execution_count": 1,
   "id": "82569ee1",
   "metadata": {
    "ExecuteTime": {
     "end_time": "2022-06-17T14:24:22.040923Z",
     "start_time": "2022-06-17T14:24:21.916887Z"
    }
   },
   "outputs": [],
   "source": [
    "import parcels\n",
    "import numpy as np\n",
    "import os"
   ]
  },
  {
   "cell_type": "code",
   "execution_count": 25,
   "id": "67d8ff4d",
   "metadata": {
    "ExecuteTime": {
     "end_time": "2022-06-17T15:11:14.143858Z",
     "start_time": "2022-06-17T15:11:08.930095Z"
    }
   },
   "outputs": [],
   "source": [
    "import pandas as pd"
   ]
  },
  {
   "cell_type": "markdown",
   "id": "50326018",
   "metadata": {},
   "source": [
    "# Code Zone"
   ]
  },
  {
   "cell_type": "code",
   "execution_count": 5,
   "id": "499f7c54",
   "metadata": {
    "ExecuteTime": {
     "end_time": "2022-06-17T14:29:32.229191Z",
     "start_time": "2022-06-17T14:29:32.214189Z"
    }
   },
   "outputs": [
    {
     "name": "stdout",
     "output_type": "stream",
     "text": [
      "its type is <class 'list'>\n",
      "number of items: 2597\n",
      "the type of a item: <class 'dict'>\n"
     ]
    }
   ],
   "source": [
    "# get the list defined in the file of 'parcels'\n",
    "estate = parcels.parcels\n",
    "print(f'its type is {type(estate)}')\n",
    "print(f'number of items: {len(estate)}')\n",
    "print(f'the type of a item: {type(estate[0])}')"
   ]
  },
  {
   "cell_type": "code",
   "execution_count": 6,
   "id": "1d6e2abb",
   "metadata": {
    "ExecuteTime": {
     "end_time": "2022-06-17T14:32:11.180924Z",
     "start_time": "2022-06-17T14:32:11.164922Z"
    }
   },
   "outputs": [
    {
     "name": "stdout",
     "output_type": "stream",
     "text": [
      "{'street_address': '1 CROWN PL RICHARDSON TX 75080', 'living_area': 2984, 'state_code': 'A1', 'market_value': 231902, 'CAMPNAME': 'ALDRIDGE EL'}\n",
      "['street_address', 'living_area', 'state_code', 'market_value', 'CAMPNAME']\n"
     ]
    }
   ],
   "source": [
    "d = estate[0]\n",
    "print(d)\n",
    "# get the keys of a dictionary and convert them to a list\n",
    "keys = list(d.keys())\n",
    "print(keys)"
   ]
  },
  {
   "cell_type": "code",
   "execution_count": 7,
   "id": "8fda026b",
   "metadata": {
    "ExecuteTime": {
     "end_time": "2022-06-17T14:43:38.175122Z",
     "start_time": "2022-06-17T14:43:38.154121Z"
    }
   },
   "outputs": [],
   "source": [
    "# repectively extract 'street_address', 'living_area', 'state_code', 'market_value', 'CAMPNAME' from the dataset\n",
    "list_street_address = [i['street_address'] for i in estate]\n",
    "list_living_area    = [i['living_area'] for i in estate]\n",
    "list_state_code     = [i['state_code'] for i in estate]\n",
    "list_market_value   = [i['market_value'] for i in estate]\n",
    "list_campName       = [i['CAMPNAME'] for i in estate]"
   ]
  },
  {
   "cell_type": "code",
   "execution_count": 14,
   "id": "92035a01",
   "metadata": {
    "ExecuteTime": {
     "end_time": "2022-06-17T14:54:52.145142Z",
     "start_time": "2022-06-17T14:54:52.132142Z"
    }
   },
   "outputs": [
    {
     "name": "stdout",
     "output_type": "stream",
     "text": [
      "the items >=28: [72 54 88 83 77 61 98 78 39 28 45]\n",
      "the items <=54: [ 3 54  2 27 39 28 10 45]\n",
      "28<= items <=54: [54 39 28 45]\n"
     ]
    }
   ],
   "source": [
    "# A simple example about numpy\n",
    "a = np.array([72,  3, 54, 88, 83, 77, 61, 98,  2, 78, 27, 39, 28, 10, 45])\n",
    "# find all the items that are greater than 28\n",
    "con1 = a >= 28\n",
    "print(f'the items >=28: {a[con1]}')\n",
    "# find all the items that are less than 54\n",
    "con2 = a <=54\n",
    "print(f'the items <=54: {a[con2]}')\n",
    "# find all the items that are between 28 and 54\n",
    "con = np.logical_and(con1,con2) # it is equal to 'con1 & con2'\n",
    "print(f'28<= items <=54: {a[con]}')"
   ]
  },
  {
   "cell_type": "code",
   "execution_count": 15,
   "id": "84dda9ed",
   "metadata": {
    "ExecuteTime": {
     "end_time": "2022-06-17T14:57:40.394669Z",
     "start_time": "2022-06-17T14:57:40.375671Z"
    }
   },
   "outputs": [],
   "source": [
    "# because Numpy provides many convinent functions, transform the lists above to Numpy objects\n",
    "list_street_address = np.array(list_street_address)\n",
    "list_living_area    = np.array(list_living_area)\n",
    "list_state_code     = np.array(list_state_code)\n",
    "list_market_value   = np.array(list_market_value)\n",
    "list_campName       = np.array(list_campName)"
   ]
  },
  {
   "cell_type": "markdown",
   "id": "7e59acfa",
   "metadata": {},
   "source": [
    "> want a single-family house (state_code=’A1’) with at least 1600 sq ft of living area (“living_area”) and a market value (“market_value”) between $250,000 and $350,000. They also have children and want to live in the area zoned to Aldridge Elementary (CAMPNAME=’ALDRIDGE EL’)."
   ]
  },
  {
   "cell_type": "code",
   "execution_count": 16,
   "id": "4e95c939",
   "metadata": {
    "ExecuteTime": {
     "end_time": "2022-06-17T15:06:10.295142Z",
     "start_time": "2022-06-17T15:06:10.282165Z"
    }
   },
   "outputs": [],
   "source": [
    "# state_code=’A1’\n",
    "con1 = list_state_code == 'A1'\n",
    "# living area >= 1600\n",
    "con2 = list_living_area >= 1600\n",
    "# market_value >= 250000\n",
    "con3 = list_market_value >= 250000\n",
    "# market_value <= 350000\n",
    "con4 = list_market_value <= 350000\n",
    "# CAMPNAME=’ALDRIDGE EL’\n",
    "con5 = list_campName == 'ALDRIDGE EL'\n"
   ]
  },
  {
   "cell_type": "code",
   "execution_count": 26,
   "id": "12512504",
   "metadata": {
    "ExecuteTime": {
     "end_time": "2022-06-17T15:15:50.616543Z",
     "start_time": "2022-06-17T15:15:50.357507Z"
    }
   },
   "outputs": [
    {
     "data": {
      "text/html": [
       "<div>\n",
       "<style scoped>\n",
       "    .dataframe tbody tr th:only-of-type {\n",
       "        vertical-align: middle;\n",
       "    }\n",
       "\n",
       "    .dataframe tbody tr th {\n",
       "        vertical-align: top;\n",
       "    }\n",
       "\n",
       "    .dataframe thead th {\n",
       "        text-align: right;\n",
       "    }\n",
       "</style>\n",
       "<table border=\"1\" class=\"dataframe\">\n",
       "  <thead>\n",
       "    <tr style=\"text-align: right;\">\n",
       "      <th></th>\n",
       "      <th>StateCode</th>\n",
       "      <th>LivingArea</th>\n",
       "      <th>MarketValue</th>\n",
       "      <th>CampName</th>\n",
       "    </tr>\n",
       "  </thead>\n",
       "  <tbody>\n",
       "    <tr>\n",
       "      <th>1</th>\n",
       "      <td>A1</td>\n",
       "      <td>2611</td>\n",
       "      <td>252622</td>\n",
       "      <td>ALDRIDGE EL</td>\n",
       "    </tr>\n",
       "    <tr>\n",
       "      <th>2</th>\n",
       "      <td>A1</td>\n",
       "      <td>2494</td>\n",
       "      <td>322847</td>\n",
       "      <td>ALDRIDGE EL</td>\n",
       "    </tr>\n",
       "    <tr>\n",
       "      <th>3</th>\n",
       "      <td>A1</td>\n",
       "      <td>3297</td>\n",
       "      <td>323534</td>\n",
       "      <td>ALDRIDGE EL</td>\n",
       "    </tr>\n",
       "    <tr>\n",
       "      <th>4</th>\n",
       "      <td>A1</td>\n",
       "      <td>3081</td>\n",
       "      <td>334752</td>\n",
       "      <td>ALDRIDGE EL</td>\n",
       "    </tr>\n",
       "    <tr>\n",
       "      <th>5</th>\n",
       "      <td>A1</td>\n",
       "      <td>2682</td>\n",
       "      <td>301137</td>\n",
       "      <td>ALDRIDGE EL</td>\n",
       "    </tr>\n",
       "    <tr>\n",
       "      <th>6</th>\n",
       "      <td>A1</td>\n",
       "      <td>2252</td>\n",
       "      <td>286937</td>\n",
       "      <td>ALDRIDGE EL</td>\n",
       "    </tr>\n",
       "    <tr>\n",
       "      <th>7</th>\n",
       "      <td>A1</td>\n",
       "      <td>2616</td>\n",
       "      <td>262484</td>\n",
       "      <td>ALDRIDGE EL</td>\n",
       "    </tr>\n",
       "    <tr>\n",
       "      <th>8</th>\n",
       "      <td>A1</td>\n",
       "      <td>2650</td>\n",
       "      <td>273386</td>\n",
       "      <td>ALDRIDGE EL</td>\n",
       "    </tr>\n",
       "    <tr>\n",
       "      <th>9</th>\n",
       "      <td>A1</td>\n",
       "      <td>2838</td>\n",
       "      <td>279184</td>\n",
       "      <td>ALDRIDGE EL</td>\n",
       "    </tr>\n",
       "    <tr>\n",
       "      <th>10</th>\n",
       "      <td>A1</td>\n",
       "      <td>2627</td>\n",
       "      <td>336548</td>\n",
       "      <td>ALDRIDGE EL</td>\n",
       "    </tr>\n",
       "    <tr>\n",
       "      <th>11</th>\n",
       "      <td>A1</td>\n",
       "      <td>2429</td>\n",
       "      <td>251770</td>\n",
       "      <td>ALDRIDGE EL</td>\n",
       "    </tr>\n",
       "    <tr>\n",
       "      <th>12</th>\n",
       "      <td>A1</td>\n",
       "      <td>2424</td>\n",
       "      <td>276147</td>\n",
       "      <td>ALDRIDGE EL</td>\n",
       "    </tr>\n",
       "    <tr>\n",
       "      <th>13</th>\n",
       "      <td>A1</td>\n",
       "      <td>2562</td>\n",
       "      <td>339252</td>\n",
       "      <td>ALDRIDGE EL</td>\n",
       "    </tr>\n",
       "    <tr>\n",
       "      <th>14</th>\n",
       "      <td>A1</td>\n",
       "      <td>2148</td>\n",
       "      <td>252338</td>\n",
       "      <td>ALDRIDGE EL</td>\n",
       "    </tr>\n",
       "    <tr>\n",
       "      <th>15</th>\n",
       "      <td>A1</td>\n",
       "      <td>3010</td>\n",
       "      <td>302968</td>\n",
       "      <td>ALDRIDGE EL</td>\n",
       "    </tr>\n",
       "    <tr>\n",
       "      <th>16</th>\n",
       "      <td>A1</td>\n",
       "      <td>2021</td>\n",
       "      <td>252966</td>\n",
       "      <td>ALDRIDGE EL</td>\n",
       "    </tr>\n",
       "    <tr>\n",
       "      <th>17</th>\n",
       "      <td>A1</td>\n",
       "      <td>2110</td>\n",
       "      <td>257796</td>\n",
       "      <td>ALDRIDGE EL</td>\n",
       "    </tr>\n",
       "    <tr>\n",
       "      <th>18</th>\n",
       "      <td>A1</td>\n",
       "      <td>2032</td>\n",
       "      <td>289730</td>\n",
       "      <td>ALDRIDGE EL</td>\n",
       "    </tr>\n",
       "    <tr>\n",
       "      <th>19</th>\n",
       "      <td>A1</td>\n",
       "      <td>2872</td>\n",
       "      <td>277838</td>\n",
       "      <td>ALDRIDGE EL</td>\n",
       "    </tr>\n",
       "    <tr>\n",
       "      <th>20</th>\n",
       "      <td>A1</td>\n",
       "      <td>2310</td>\n",
       "      <td>256226</td>\n",
       "      <td>ALDRIDGE EL</td>\n",
       "    </tr>\n",
       "    <tr>\n",
       "      <th>21</th>\n",
       "      <td>A1</td>\n",
       "      <td>2219</td>\n",
       "      <td>266881</td>\n",
       "      <td>ALDRIDGE EL</td>\n",
       "    </tr>\n",
       "    <tr>\n",
       "      <th>22</th>\n",
       "      <td>A1</td>\n",
       "      <td>2984</td>\n",
       "      <td>284171</td>\n",
       "      <td>ALDRIDGE EL</td>\n",
       "    </tr>\n",
       "    <tr>\n",
       "      <th>23</th>\n",
       "      <td>A1</td>\n",
       "      <td>2160</td>\n",
       "      <td>265160</td>\n",
       "      <td>ALDRIDGE EL</td>\n",
       "    </tr>\n",
       "    <tr>\n",
       "      <th>24</th>\n",
       "      <td>A1</td>\n",
       "      <td>2285</td>\n",
       "      <td>271461</td>\n",
       "      <td>ALDRIDGE EL</td>\n",
       "    </tr>\n",
       "    <tr>\n",
       "      <th>25</th>\n",
       "      <td>A1</td>\n",
       "      <td>2745</td>\n",
       "      <td>256045</td>\n",
       "      <td>ALDRIDGE EL</td>\n",
       "    </tr>\n",
       "    <tr>\n",
       "      <th>26</th>\n",
       "      <td>A1</td>\n",
       "      <td>2394</td>\n",
       "      <td>252351</td>\n",
       "      <td>ALDRIDGE EL</td>\n",
       "    </tr>\n",
       "    <tr>\n",
       "      <th>27</th>\n",
       "      <td>A1</td>\n",
       "      <td>2113</td>\n",
       "      <td>259934</td>\n",
       "      <td>ALDRIDGE EL</td>\n",
       "    </tr>\n",
       "    <tr>\n",
       "      <th>28</th>\n",
       "      <td>A1</td>\n",
       "      <td>3183</td>\n",
       "      <td>285998</td>\n",
       "      <td>ALDRIDGE EL</td>\n",
       "    </tr>\n",
       "    <tr>\n",
       "      <th>29</th>\n",
       "      <td>A1</td>\n",
       "      <td>2582</td>\n",
       "      <td>268921</td>\n",
       "      <td>ALDRIDGE EL</td>\n",
       "    </tr>\n",
       "    <tr>\n",
       "      <th>30</th>\n",
       "      <td>A1</td>\n",
       "      <td>2045</td>\n",
       "      <td>252201</td>\n",
       "      <td>ALDRIDGE EL</td>\n",
       "    </tr>\n",
       "    <tr>\n",
       "      <th>31</th>\n",
       "      <td>A1</td>\n",
       "      <td>3286</td>\n",
       "      <td>291897</td>\n",
       "      <td>ALDRIDGE EL</td>\n",
       "    </tr>\n",
       "    <tr>\n",
       "      <th>32</th>\n",
       "      <td>A1</td>\n",
       "      <td>2258</td>\n",
       "      <td>289822</td>\n",
       "      <td>ALDRIDGE EL</td>\n",
       "    </tr>\n",
       "    <tr>\n",
       "      <th>33</th>\n",
       "      <td>A1</td>\n",
       "      <td>2635</td>\n",
       "      <td>274569</td>\n",
       "      <td>ALDRIDGE EL</td>\n",
       "    </tr>\n",
       "    <tr>\n",
       "      <th>34</th>\n",
       "      <td>A1</td>\n",
       "      <td>2619</td>\n",
       "      <td>256846</td>\n",
       "      <td>ALDRIDGE EL</td>\n",
       "    </tr>\n",
       "    <tr>\n",
       "      <th>35</th>\n",
       "      <td>A1</td>\n",
       "      <td>2668</td>\n",
       "      <td>254927</td>\n",
       "      <td>ALDRIDGE EL</td>\n",
       "    </tr>\n",
       "    <tr>\n",
       "      <th>36</th>\n",
       "      <td>A1</td>\n",
       "      <td>2510</td>\n",
       "      <td>311061</td>\n",
       "      <td>ALDRIDGE EL</td>\n",
       "    </tr>\n",
       "    <tr>\n",
       "      <th>37</th>\n",
       "      <td>A1</td>\n",
       "      <td>2854</td>\n",
       "      <td>257263</td>\n",
       "      <td>ALDRIDGE EL</td>\n",
       "    </tr>\n",
       "    <tr>\n",
       "      <th>38</th>\n",
       "      <td>A1</td>\n",
       "      <td>2595</td>\n",
       "      <td>263393</td>\n",
       "      <td>ALDRIDGE EL</td>\n",
       "    </tr>\n",
       "    <tr>\n",
       "      <th>39</th>\n",
       "      <td>A1</td>\n",
       "      <td>2815</td>\n",
       "      <td>272775</td>\n",
       "      <td>ALDRIDGE EL</td>\n",
       "    </tr>\n",
       "    <tr>\n",
       "      <th>40</th>\n",
       "      <td>A1</td>\n",
       "      <td>2352</td>\n",
       "      <td>292188</td>\n",
       "      <td>ALDRIDGE EL</td>\n",
       "    </tr>\n",
       "    <tr>\n",
       "      <th>41</th>\n",
       "      <td>A1</td>\n",
       "      <td>3241</td>\n",
       "      <td>272702</td>\n",
       "      <td>ALDRIDGE EL</td>\n",
       "    </tr>\n",
       "    <tr>\n",
       "      <th>42</th>\n",
       "      <td>A1</td>\n",
       "      <td>3306</td>\n",
       "      <td>277332</td>\n",
       "      <td>ALDRIDGE EL</td>\n",
       "    </tr>\n",
       "  </tbody>\n",
       "</table>\n",
       "</div>"
      ],
      "text/plain": [
       "   StateCode  LivingArea  MarketValue     CampName\n",
       "1         A1        2611       252622  ALDRIDGE EL\n",
       "2         A1        2494       322847  ALDRIDGE EL\n",
       "3         A1        3297       323534  ALDRIDGE EL\n",
       "4         A1        3081       334752  ALDRIDGE EL\n",
       "5         A1        2682       301137  ALDRIDGE EL\n",
       "6         A1        2252       286937  ALDRIDGE EL\n",
       "7         A1        2616       262484  ALDRIDGE EL\n",
       "8         A1        2650       273386  ALDRIDGE EL\n",
       "9         A1        2838       279184  ALDRIDGE EL\n",
       "10        A1        2627       336548  ALDRIDGE EL\n",
       "11        A1        2429       251770  ALDRIDGE EL\n",
       "12        A1        2424       276147  ALDRIDGE EL\n",
       "13        A1        2562       339252  ALDRIDGE EL\n",
       "14        A1        2148       252338  ALDRIDGE EL\n",
       "15        A1        3010       302968  ALDRIDGE EL\n",
       "16        A1        2021       252966  ALDRIDGE EL\n",
       "17        A1        2110       257796  ALDRIDGE EL\n",
       "18        A1        2032       289730  ALDRIDGE EL\n",
       "19        A1        2872       277838  ALDRIDGE EL\n",
       "20        A1        2310       256226  ALDRIDGE EL\n",
       "21        A1        2219       266881  ALDRIDGE EL\n",
       "22        A1        2984       284171  ALDRIDGE EL\n",
       "23        A1        2160       265160  ALDRIDGE EL\n",
       "24        A1        2285       271461  ALDRIDGE EL\n",
       "25        A1        2745       256045  ALDRIDGE EL\n",
       "26        A1        2394       252351  ALDRIDGE EL\n",
       "27        A1        2113       259934  ALDRIDGE EL\n",
       "28        A1        3183       285998  ALDRIDGE EL\n",
       "29        A1        2582       268921  ALDRIDGE EL\n",
       "30        A1        2045       252201  ALDRIDGE EL\n",
       "31        A1        3286       291897  ALDRIDGE EL\n",
       "32        A1        2258       289822  ALDRIDGE EL\n",
       "33        A1        2635       274569  ALDRIDGE EL\n",
       "34        A1        2619       256846  ALDRIDGE EL\n",
       "35        A1        2668       254927  ALDRIDGE EL\n",
       "36        A1        2510       311061  ALDRIDGE EL\n",
       "37        A1        2854       257263  ALDRIDGE EL\n",
       "38        A1        2595       263393  ALDRIDGE EL\n",
       "39        A1        2815       272775  ALDRIDGE EL\n",
       "40        A1        2352       292188  ALDRIDGE EL\n",
       "41        A1        3241       272702  ALDRIDGE EL\n",
       "42        A1        3306       277332  ALDRIDGE EL"
      ]
     },
     "execution_count": 26,
     "metadata": {},
     "output_type": "execute_result"
    }
   ],
   "source": [
    "con = con1 & con2 & con3 & con4 & con5\n",
    "# utilize 'pandas' to present the search results.\n",
    "num_ret = len(list_state_code[con])\n",
    "df_ret = pd.DataFrame({\"StateCode\":list_state_code[con],\n",
    "                       \"LivingArea\":list_living_area[con],\n",
    "                       \"MarketValue\":list_market_value[con],\n",
    "                       \"CampName\":list_campName[con]}, index=range(1, num_ret+1))\n",
    "df_ret"
   ]
  }
 ],
 "metadata": {
  "kernelspec": {
   "display_name": "env_py37",
   "language": "python",
   "name": "env_py37"
  },
  "language_info": {
   "codemirror_mode": {
    "name": "ipython",
    "version": 3
   },
   "file_extension": ".py",
   "mimetype": "text/x-python",
   "name": "python",
   "nbconvert_exporter": "python",
   "pygments_lexer": "ipython3",
   "version": "3.7.11"
  },
  "varInspector": {
   "cols": {
    "lenName": 16,
    "lenType": 16,
    "lenVar": 40
   },
   "kernels_config": {
    "python": {
     "delete_cmd_postfix": "",
     "delete_cmd_prefix": "del ",
     "library": "var_list.py",
     "varRefreshCmd": "print(var_dic_list())"
    },
    "r": {
     "delete_cmd_postfix": ") ",
     "delete_cmd_prefix": "rm(",
     "library": "var_list.r",
     "varRefreshCmd": "cat(var_dic_list()) "
    }
   },
   "types_to_exclude": [
    "module",
    "function",
    "builtin_function_or_method",
    "instance",
    "_Feature"
   ],
   "window_display": false
  }
 },
 "nbformat": 4,
 "nbformat_minor": 5
}
